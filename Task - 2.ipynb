{
 "cells": [
  {
   "cell_type": "markdown",
   "id": "7f514629",
   "metadata": {},
   "source": [
    "## 1. Display float number with 2 decimal places using print()"
   ]
  },
  {
   "cell_type": "code",
   "execution_count": 2,
   "id": "8686b03f",
   "metadata": {},
   "outputs": [
    {
     "name": "stdout",
     "output_type": "stream",
     "text": [
      "Enter the number: 3.14159\n",
      "3.14\n"
     ]
    }
   ],
   "source": [
    "x = float(input(\"Enter the number: \"))\n",
    "print(round(x,2))"
   ]
  },
  {
   "cell_type": "markdown",
   "id": "b9bd8163",
   "metadata": {},
   "source": [
    "## 2. Accept a list of float numbers as input from the user and display that"
   ]
  },
  {
   "cell_type": "code",
   "execution_count": 5,
   "id": "fe7bc6a4",
   "metadata": {},
   "outputs": [
    {
     "name": "stdout",
     "output_type": "stream",
     "text": [
      "3.12 3.44 2.111\n",
      "The floating list is:  [3.12, 3.44, 2.111]\n"
     ]
    }
   ],
   "source": [
    "def lin():\n",
    "    return list(map(float, input().split()))\n",
    "                    \n",
    "lst1 = lin()\n",
    "print(\"The floating list is: \", lst1)"
   ]
  },
  {
   "cell_type": "markdown",
   "id": "2f619b6d",
   "metadata": {},
   "source": [
    "## 3. Print the First n natural numbers using a while loop"
   ]
  },
  {
   "cell_type": "code",
   "execution_count": 7,
   "id": "33b8b316",
   "metadata": {},
   "outputs": [
    {
     "name": "stdout",
     "output_type": "stream",
     "text": [
      "Enter the last number: 10\n",
      "1 2 3 4 5 6 7 8 9 10 "
     ]
    }
   ],
   "source": [
    "n = int(input(\"Enter the last number: \"))\n",
    "i = 1\n",
    "\n",
    "while i<=n:\n",
    "    print(i, end=\" \")\n",
    "    i=i+1"
   ]
  },
  {
   "cell_type": "markdown",
   "id": "720af75a",
   "metadata": {},
   "source": [
    "## 4. Display numbers from -n to -1 using for loop"
   ]
  },
  {
   "cell_type": "code",
   "execution_count": 11,
   "id": "0c8a756c",
   "metadata": {},
   "outputs": [
    {
     "name": "stdout",
     "output_type": "stream",
     "text": [
      "Enter the first number: 30\n",
      "-30 -29 -28 -27 -26 -25 -24 -23 -22 -21 -20 -19 -18 -17 -16 -15 -14 -13 -12 -11 -10 -9 -8 -7 -6 -5 -4 -3 -2 -1 "
     ]
    }
   ],
   "source": [
    "f = int(input(\"Enter the first number: \"))\n",
    "y = -f\n",
    "\n",
    "for i in range(y, 0):\n",
    "    print(i, end=\" \")"
   ]
  },
  {
   "cell_type": "markdown",
   "id": "fc49905f",
   "metadata": {},
   "source": [
    "## 5. Count the total number of digits in a number"
   ]
  },
  {
   "cell_type": "code",
   "execution_count": 13,
   "id": "10144293",
   "metadata": {},
   "outputs": [
    {
     "name": "stdout",
     "output_type": "stream",
     "text": [
      "Enter the number: 1283940487\n",
      "Total Number of digits:  10\n"
     ]
    }
   ],
   "source": [
    "number = input(\"Enter the number: \")\n",
    "count = 0\n",
    "\n",
    "for i in number:\n",
    "    count+=1\n",
    "\n",
    "print(\"Total Number of digits: \", count)"
   ]
  },
  {
   "cell_type": "markdown",
   "id": "608a5a3a",
   "metadata": {},
   "source": [
    "## 6. Find the factorial of a given number"
   ]
  },
  {
   "cell_type": "code",
   "execution_count": 17,
   "id": "24c099ef",
   "metadata": {},
   "outputs": [
    {
     "name": "stdout",
     "output_type": "stream",
     "text": [
      "Enter the number: 6\n",
      "Factorial of 6 is: 720\n"
     ]
    }
   ],
   "source": [
    "num2 = int(input(\"Enter the number: \"))\n",
    "summ = 1\n",
    "\n",
    "for i in range(1,num2+1):\n",
    "    summ *= i\n",
    "    \n",
    "print(f\"Factorial of {num2} is: {summ}\")"
   ]
  },
  {
   "cell_type": "markdown",
   "id": "418427ea",
   "metadata": {},
   "source": [
    "## 7. Print this: \n",
    "##     1 \n",
    "##     1 2\n",
    "##     1 2 3 \n",
    "##     1 2 3 4 \n",
    "##     1 2 3 4 5"
   ]
  },
  {
   "cell_type": "code",
   "execution_count": 20,
   "id": "c0deae6b",
   "metadata": {},
   "outputs": [
    {
     "name": "stdout",
     "output_type": "stream",
     "text": [
      "Enter the row: 5\n",
      "1 \n",
      "\n",
      "1 2 \n",
      "\n",
      "1 2 3 \n",
      "\n",
      "1 2 3 4 \n",
      "\n",
      "1 2 3 4 5 \n",
      "\n"
     ]
    }
   ],
   "source": [
    "row = int(input(\"Enter the row: \"))\n",
    "\n",
    "for i in range (1,row+1):\n",
    "    for j in range(1,i+1):\n",
    "        print(j, end=\" \")\n",
    "    print(\"\\n\")"
   ]
  },
  {
   "cell_type": "code",
   "execution_count": null,
   "id": "e60e4106",
   "metadata": {},
   "outputs": [],
   "source": []
  }
 ],
 "metadata": {
  "kernelspec": {
   "display_name": "Python 3 (ipykernel)",
   "language": "python",
   "name": "python3"
  },
  "language_info": {
   "codemirror_mode": {
    "name": "ipython",
    "version": 3
   },
   "file_extension": ".py",
   "mimetype": "text/x-python",
   "name": "python",
   "nbconvert_exporter": "python",
   "pygments_lexer": "ipython3",
   "version": "3.10.10"
  }
 },
 "nbformat": 4,
 "nbformat_minor": 5
}
