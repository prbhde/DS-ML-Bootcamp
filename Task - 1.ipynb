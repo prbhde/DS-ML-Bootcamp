{
 "cells": [
  {
   "cell_type": "markdown",
   "id": "ef021801",
   "metadata": {},
   "source": [
    "## 1. Area of a circle"
   ]
  },
  {
   "cell_type": "code",
   "execution_count": 1,
   "id": "47765a6e",
   "metadata": {},
   "outputs": [
    {
     "name": "stdout",
     "output_type": "stream",
     "text": [
      "Enter the radius: 5\n",
      "Area =  78.5\n"
     ]
    }
   ],
   "source": [
    "radius = float(input(\"Enter the radius: \"))\n",
    "area = 3.14 * (radius * radius)\n",
    "\n",
    "print('Area = ', area)"
   ]
  },
  {
   "cell_type": "markdown",
   "id": "3f3f7bc6",
   "metadata": {},
   "source": [
    "## 2. Largest number between three numbers"
   ]
  },
  {
   "cell_type": "code",
   "execution_count": 2,
   "id": "50c8b261",
   "metadata": {},
   "outputs": [],
   "source": [
    "def largest(a, b, c):\n",
    "    if a>b and a >c:\n",
    "        return a\n",
    "    elif b>a and b>c:\n",
    "        return b\n",
    "    else:\n",
    "        return c"
   ]
  },
  {
   "cell_type": "code",
   "execution_count": 3,
   "id": "7dbf855e",
   "metadata": {},
   "outputs": [
    {
     "data": {
      "text/plain": [
       "27"
      ]
     },
     "execution_count": 3,
     "metadata": {},
     "output_type": "execute_result"
    }
   ],
   "source": [
    "largest(24, 12, 27)"
   ]
  },
  {
   "cell_type": "markdown",
   "id": "e43930fa",
   "metadata": {},
   "source": [
    "## 3. A function to convert the vowels of a string into 1 and consonants into 0"
   ]
  },
  {
   "cell_type": "code",
   "execution_count": 4,
   "id": "85ddf316",
   "metadata": {},
   "outputs": [],
   "source": [
    "def convert(string):\n",
    "    n = len(string)\n",
    "    \n",
    "    for i in range(n):\n",
    "        if string[i]=='a' or string[i]=='e' or string[i]=='i' or string[i]=='o' or string[i]=='u':\n",
    "            print('1', end=\"\")\n",
    "        else:\n",
    "            print('0', end=\"\")"
   ]
  },
  {
   "cell_type": "code",
   "execution_count": 5,
   "id": "2f8bcfe3",
   "metadata": {},
   "outputs": [
    {
     "name": "stdout",
     "output_type": "stream",
     "text": [
      "Enter a string: abcde\n",
      "10001"
     ]
    }
   ],
   "source": [
    "string = input(\"Enter a string: \")\n",
    "convert(string)"
   ]
  },
  {
   "cell_type": "markdown",
   "id": "c767ecbf",
   "metadata": {},
   "source": [
    "## 4. A single Calculator Function"
   ]
  },
  {
   "cell_type": "code",
   "execution_count": 3,
   "id": "5f035576",
   "metadata": {},
   "outputs": [],
   "source": [
    "def add(x, y):\n",
    "    return x+y\n",
    "\n",
    "def sub(x, y):\n",
    "    return x-y\n",
    "\n",
    "def mul(x, y):\n",
    "    return x*y\n",
    "\n",
    "def div(x, y):\n",
    "    return x//y\n"
   ]
  },
  {
   "cell_type": "code",
   "execution_count": 4,
   "id": "1140ff52",
   "metadata": {},
   "outputs": [
    {
     "name": "stdout",
     "output_type": "stream",
     "text": [
      "Enter the first number: 24\n",
      "Enter the second number: 6\n",
      "\n",
      "for addition press a\n",
      "for subtraction press b\n",
      "for multiplication press c\n",
      "for division press d\n",
      "\n",
      "Select option: d\n",
      "\n",
      "\n",
      "4\n"
     ]
    }
   ],
   "source": [
    "x = int(input(\"Enter the first number: \"))\n",
    "y = int(input(\"Enter the second number: \"))\n",
    "\n",
    "print('\\nfor addition press a')\n",
    "print('for subtraction press b')\n",
    "print('for multiplication press c')\n",
    "print('for division press d\\n')\n",
    "\n",
    "option = input('Select option: ')\n",
    "print(\"\\n\")\n",
    "\n",
    "if option == 'a':\n",
    "    print(add(x, y))\n",
    "    \n",
    "elif option == 'b':\n",
    "    print(sub(x, y))\n",
    "    \n",
    "elif option == 'c':\n",
    "    print(mul(x, y))\n",
    "\n",
    "elif option == 'd':\n",
    "    print(div(x, y))"
   ]
  },
  {
   "cell_type": "markdown",
   "id": "da52b6be",
   "metadata": {},
   "source": [
    "## 5. Repeat Input String"
   ]
  },
  {
   "cell_type": "code",
   "execution_count": 5,
   "id": "ecd104b1",
   "metadata": {},
   "outputs": [
    {
     "name": "stdout",
     "output_type": "stream",
     "text": [
      "Enter a string: codestu\n",
      "codestucodestu\n"
     ]
    }
   ],
   "source": [
    "repeat = input('Enter a string: ')\n",
    "print(repeat, end=\"\")\n",
    "print(repeat)"
   ]
  },
  {
   "cell_type": "markdown",
   "id": "d0796563",
   "metadata": {},
   "source": [
    "## 6.  map, filter, reduce"
   ]
  },
  {
   "cell_type": "code",
   "execution_count": 11,
   "id": "38be5ec4",
   "metadata": {},
   "outputs": [],
   "source": [
    "input1 = [ \"ux1P5\", \"rt0\", \"ft3\", \"z1aP\" ]"
   ]
  },
  {
   "cell_type": "code",
   "execution_count": 12,
   "id": "58dc858e",
   "metadata": {},
   "outputs": [
    {
     "name": "stdout",
     "output_type": "stream",
     "text": [
      "['ux1P5', 'z1aP']\n"
     ]
    }
   ],
   "source": [
    "output1 = list(filter(lambda x: 'P' in x, input1))\n",
    "print(output1)"
   ]
  },
  {
   "cell_type": "code",
   "execution_count": 13,
   "id": "4f026d4b",
   "metadata": {},
   "outputs": [
    {
     "name": "stdout",
     "output_type": "stream",
     "text": [
      "['ux1P5', 'rt0P', 'ft3P', 'z1aP']\n"
     ]
    }
   ],
   "source": [
    "output2 = list(map(lambda x: x+'P' if 'P' not in x else x, input1))\n",
    "print(output2)"
   ]
  },
  {
   "cell_type": "code",
   "execution_count": 14,
   "id": "f4100686",
   "metadata": {},
   "outputs": [],
   "source": [
    "from functools import reduce"
   ]
  },
  {
   "cell_type": "code",
   "execution_count": 16,
   "id": "07641350",
   "metadata": {},
   "outputs": [
    {
     "name": "stdout",
     "output_type": "stream",
     "text": [
      "21\n"
     ]
    }
   ],
   "source": [
    "input2 = [1, 2, 3, 4, 5, 6]\n",
    "output3 = reduce(lambda x,y: x+y, input2)\n",
    "print(output3)"
   ]
  },
  {
   "cell_type": "markdown",
   "id": "70877255",
   "metadata": {},
   "source": [
    "## 7. Pandas"
   ]
  },
  {
   "cell_type": "code",
   "execution_count": 7,
   "id": "d2da99a4",
   "metadata": {},
   "outputs": [],
   "source": [
    "import pandas as pd\n",
    "import numpy as np"
   ]
  },
  {
   "cell_type": "code",
   "execution_count": 8,
   "id": "c2eb3dc8",
   "metadata": {},
   "outputs": [
    {
     "data": {
      "text/html": [
       "<div>\n",
       "<style scoped>\n",
       "    .dataframe tbody tr th:only-of-type {\n",
       "        vertical-align: middle;\n",
       "    }\n",
       "\n",
       "    .dataframe tbody tr th {\n",
       "        vertical-align: top;\n",
       "    }\n",
       "\n",
       "    .dataframe thead th {\n",
       "        text-align: right;\n",
       "    }\n",
       "</style>\n",
       "<table border=\"1\" class=\"dataframe\">\n",
       "  <thead>\n",
       "    <tr style=\"text-align: right;\">\n",
       "      <th></th>\n",
       "      <th>Unnamed: 0</th>\n",
       "      <th>item_code</th>\n",
       "      <th>item_name</th>\n",
       "      <th>display_level</th>\n",
       "      <th>selectable</th>\n",
       "      <th>sort_sequence</th>\n",
       "    </tr>\n",
       "  </thead>\n",
       "  <tbody>\n",
       "    <tr>\n",
       "      <th>0</th>\n",
       "      <td>0</td>\n",
       "      <td>AA0</td>\n",
       "      <td>All items - old base</td>\n",
       "      <td>0</td>\n",
       "      <td>T</td>\n",
       "      <td>2</td>\n",
       "    </tr>\n",
       "    <tr>\n",
       "      <th>1</th>\n",
       "      <td>1</td>\n",
       "      <td>AA0R</td>\n",
       "      <td>Purchasing power of the consumer dollar - old ...</td>\n",
       "      <td>0</td>\n",
       "      <td>T</td>\n",
       "      <td>400</td>\n",
       "    </tr>\n",
       "    <tr>\n",
       "      <th>2</th>\n",
       "      <td>2</td>\n",
       "      <td>SA0</td>\n",
       "      <td>All items</td>\n",
       "      <td>0</td>\n",
       "      <td>T</td>\n",
       "      <td>1</td>\n",
       "    </tr>\n",
       "    <tr>\n",
       "      <th>3</th>\n",
       "      <td>3</td>\n",
       "      <td>SA0E</td>\n",
       "      <td>Energy</td>\n",
       "      <td>1</td>\n",
       "      <td>T</td>\n",
       "      <td>375</td>\n",
       "    </tr>\n",
       "    <tr>\n",
       "      <th>4</th>\n",
       "      <td>4</td>\n",
       "      <td>SA0L1</td>\n",
       "      <td>All items less food</td>\n",
       "      <td>1</td>\n",
       "      <td>T</td>\n",
       "      <td>359</td>\n",
       "    </tr>\n",
       "    <tr>\n",
       "      <th>5</th>\n",
       "      <td>5</td>\n",
       "      <td>SA0L12</td>\n",
       "      <td>All items less food and shelter</td>\n",
       "      <td>1</td>\n",
       "      <td>T</td>\n",
       "      <td>362</td>\n",
       "    </tr>\n",
       "    <tr>\n",
       "      <th>6</th>\n",
       "      <td>6</td>\n",
       "      <td>SA0L12E</td>\n",
       "      <td>All items less food, shelter, and energy</td>\n",
       "      <td>1</td>\n",
       "      <td>T</td>\n",
       "      <td>363</td>\n",
       "    </tr>\n",
       "    <tr>\n",
       "      <th>7</th>\n",
       "      <td>7</td>\n",
       "      <td>SA0L12E4</td>\n",
       "      <td>All items less food, shelter, energy, and used...</td>\n",
       "      <td>1</td>\n",
       "      <td>T</td>\n",
       "      <td>364</td>\n",
       "    </tr>\n",
       "    <tr>\n",
       "      <th>8</th>\n",
       "      <td>8</td>\n",
       "      <td>SA0L1E</td>\n",
       "      <td>All items less food and energy</td>\n",
       "      <td>1</td>\n",
       "      <td>T</td>\n",
       "      <td>360</td>\n",
       "    </tr>\n",
       "    <tr>\n",
       "      <th>9</th>\n",
       "      <td>9</td>\n",
       "      <td>SA0L2</td>\n",
       "      <td>All items less shelter</td>\n",
       "      <td>1</td>\n",
       "      <td>T</td>\n",
       "      <td>361</td>\n",
       "    </tr>\n",
       "    <tr>\n",
       "      <th>10</th>\n",
       "      <td>10</td>\n",
       "      <td>SA0L5</td>\n",
       "      <td>All items less medical care</td>\n",
       "      <td>1</td>\n",
       "      <td>T</td>\n",
       "      <td>357</td>\n",
       "    </tr>\n",
       "    <tr>\n",
       "      <th>11</th>\n",
       "      <td>11</td>\n",
       "      <td>SA0LE</td>\n",
       "      <td>All items less energy</td>\n",
       "      <td>1</td>\n",
       "      <td>T</td>\n",
       "      <td>358</td>\n",
       "    </tr>\n",
       "    <tr>\n",
       "      <th>12</th>\n",
       "      <td>12</td>\n",
       "      <td>SA0R</td>\n",
       "      <td>Purchasing power of the consumer dollar</td>\n",
       "      <td>0</td>\n",
       "      <td>T</td>\n",
       "      <td>399</td>\n",
       "    </tr>\n",
       "    <tr>\n",
       "      <th>13</th>\n",
       "      <td>13</td>\n",
       "      <td>SA311</td>\n",
       "      <td>Apparel less footwear</td>\n",
       "      <td>1</td>\n",
       "      <td>T</td>\n",
       "      <td>365</td>\n",
       "    </tr>\n",
       "    <tr>\n",
       "      <th>14</th>\n",
       "      <td>14</td>\n",
       "      <td>SAA</td>\n",
       "      <td>Apparel</td>\n",
       "      <td>0</td>\n",
       "      <td>T</td>\n",
       "      <td>187</td>\n",
       "    </tr>\n",
       "    <tr>\n",
       "      <th>15</th>\n",
       "      <td>15</td>\n",
       "      <td>SAA1</td>\n",
       "      <td>Men's and boys' apparel</td>\n",
       "      <td>1</td>\n",
       "      <td>T</td>\n",
       "      <td>188</td>\n",
       "    </tr>\n",
       "    <tr>\n",
       "      <th>16</th>\n",
       "      <td>16</td>\n",
       "      <td>SAA2</td>\n",
       "      <td>Women's and girls' apparel</td>\n",
       "      <td>1</td>\n",
       "      <td>T</td>\n",
       "      <td>195</td>\n",
       "    </tr>\n",
       "    <tr>\n",
       "      <th>17</th>\n",
       "      <td>17</td>\n",
       "      <td>SAC</td>\n",
       "      <td>Commodities</td>\n",
       "      <td>1</td>\n",
       "      <td>T</td>\n",
       "      <td>366</td>\n",
       "    </tr>\n",
       "    <tr>\n",
       "      <th>18</th>\n",
       "      <td>18</td>\n",
       "      <td>SACE</td>\n",
       "      <td>Energy commodities</td>\n",
       "      <td>1</td>\n",
       "      <td>T</td>\n",
       "      <td>376</td>\n",
       "    </tr>\n",
       "    <tr>\n",
       "      <th>19</th>\n",
       "      <td>19</td>\n",
       "      <td>SACL1</td>\n",
       "      <td>Commodities less food</td>\n",
       "      <td>1</td>\n",
       "      <td>T</td>\n",
       "      <td>367</td>\n",
       "    </tr>\n",
       "  </tbody>\n",
       "</table>\n",
       "</div>"
      ],
      "text/plain": [
       "    Unnamed: 0 item_code                                          item_name  \\\n",
       "0            0       AA0                               All items - old base   \n",
       "1            1      AA0R  Purchasing power of the consumer dollar - old ...   \n",
       "2            2       SA0                                          All items   \n",
       "3            3      SA0E                                             Energy   \n",
       "4            4     SA0L1                                All items less food   \n",
       "5            5    SA0L12                    All items less food and shelter   \n",
       "6            6   SA0L12E           All items less food, shelter, and energy   \n",
       "7            7  SA0L12E4  All items less food, shelter, energy, and used...   \n",
       "8            8    SA0L1E                     All items less food and energy   \n",
       "9            9     SA0L2                             All items less shelter   \n",
       "10          10     SA0L5                        All items less medical care   \n",
       "11          11     SA0LE                              All items less energy   \n",
       "12          12      SA0R            Purchasing power of the consumer dollar   \n",
       "13          13     SA311                              Apparel less footwear   \n",
       "14          14       SAA                                            Apparel   \n",
       "15          15      SAA1                            Men's and boys' apparel   \n",
       "16          16      SAA2                         Women's and girls' apparel   \n",
       "17          17       SAC                                        Commodities   \n",
       "18          18      SACE                                 Energy commodities   \n",
       "19          19     SACL1                              Commodities less food   \n",
       "\n",
       "    display_level selectable  sort_sequence  \n",
       "0               0          T              2  \n",
       "1               0          T            400  \n",
       "2               0          T              1  \n",
       "3               1          T            375  \n",
       "4               1          T            359  \n",
       "5               1          T            362  \n",
       "6               1          T            363  \n",
       "7               1          T            364  \n",
       "8               1          T            360  \n",
       "9               1          T            361  \n",
       "10              1          T            357  \n",
       "11              1          T            358  \n",
       "12              0          T            399  \n",
       "13              1          T            365  \n",
       "14              0          T            187  \n",
       "15              1          T            188  \n",
       "16              1          T            195  \n",
       "17              1          T            366  \n",
       "18              1          T            376  \n",
       "19              1          T            367  "
      ]
     },
     "execution_count": 8,
     "metadata": {},
     "output_type": "execute_result"
    }
   ],
   "source": [
    "df = pd.read_csv('Datasets/wine.csv')\n",
    "df.head(20)"
   ]
  },
  {
   "cell_type": "code",
   "execution_count": 15,
   "id": "8bfe7383",
   "metadata": {},
   "outputs": [
    {
     "name": "stdout",
     "output_type": "stream",
     "text": [
      "363\n"
     ]
    }
   ],
   "source": [
    "print(df.iloc[6,5])"
   ]
  },
  {
   "cell_type": "code",
   "execution_count": 16,
   "id": "6dba748d",
   "metadata": {},
   "outputs": [
    {
     "name": "stdout",
     "output_type": "stream",
     "text": [
      "   Unnamed: 0 item_code                                          item_name  \\\n",
      "0           0       AA0                               All items - old base   \n",
      "1           1      AA0R  Purchasing power of the consumer dollar - old ...   \n",
      "2           2       SA0                                          All items   \n",
      "3           3      SA0E                                             Energy   \n",
      "4           4     SA0L1                                All items less food   \n",
      "5           5    SA0L12                    All items less food and shelter   \n",
      "6           6   SA0L12E           All items less food, shelter, and energy   \n",
      "7           7  SA0L12E4  All items less food, shelter, energy, and used...   \n",
      "8           8    SA0L1E                     All items less food and energy   \n",
      "9           9     SA0L2                             All items less shelter   \n",
      "\n",
      "   display_level selectable  sort_sequence  \n",
      "0              0          T              2  \n",
      "1              0          T            400  \n",
      "2              0          T              1  \n",
      "3              1          T            375  \n",
      "4              1          T            359  \n",
      "5              1          T            362  \n",
      "6              1          T            363  \n",
      "7              1          T            364  \n",
      "8              1          T            360  \n",
      "9              1          T            361  \n"
     ]
    }
   ],
   "source": [
    "df1 = df.loc[0:9]\n",
    "print(df1)"
   ]
  },
  {
   "cell_type": "code",
   "execution_count": 17,
   "id": "f57928e5",
   "metadata": {},
   "outputs": [
    {
     "ename": "OSError",
     "evalue": "Cannot save file into a non-existent directory: 'Datasheets'",
     "output_type": "error",
     "traceback": [
      "\u001b[1;31m---------------------------------------------------------------------------\u001b[0m",
      "\u001b[1;31mOSError\u001b[0m                                   Traceback (most recent call last)",
      "Cell \u001b[1;32mIn[17], line 1\u001b[0m\n\u001b[1;32m----> 1\u001b[0m \u001b[43mdf1\u001b[49m\u001b[38;5;241;43m.\u001b[39;49m\u001b[43mto_pickle\u001b[49m\u001b[43m(\u001b[49m\u001b[38;5;124;43m\"\u001b[39;49m\u001b[38;5;124;43mDatasheets/file.pkl\u001b[39;49m\u001b[38;5;124;43m\"\u001b[39;49m\u001b[43m)\u001b[49m\n",
      "File \u001b[1;32m~\\AppData\\Local\\Programs\\Python\\Python310\\lib\\site-packages\\pandas\\core\\generic.py:3064\u001b[0m, in \u001b[0;36mNDFrame.to_pickle\u001b[1;34m(self, path, compression, protocol, storage_options)\u001b[0m\n\u001b[0;32m   3012\u001b[0m \u001b[38;5;250m\u001b[39m\u001b[38;5;124;03m\"\"\"\u001b[39;00m\n\u001b[0;32m   3013\u001b[0m \u001b[38;5;124;03mPickle (serialize) object to file.\u001b[39;00m\n\u001b[0;32m   3014\u001b[0m \n\u001b[1;32m   (...)\u001b[0m\n\u001b[0;32m   3060\u001b[0m \u001b[38;5;124;03m4    4    9\u001b[39;00m\n\u001b[0;32m   3061\u001b[0m \u001b[38;5;124;03m\"\"\"\u001b[39;00m  \u001b[38;5;66;03m# noqa: E501\u001b[39;00m\n\u001b[0;32m   3062\u001b[0m \u001b[38;5;28;01mfrom\u001b[39;00m \u001b[38;5;21;01mpandas\u001b[39;00m\u001b[38;5;21;01m.\u001b[39;00m\u001b[38;5;21;01mio\u001b[39;00m\u001b[38;5;21;01m.\u001b[39;00m\u001b[38;5;21;01mpickle\u001b[39;00m \u001b[38;5;28;01mimport\u001b[39;00m to_pickle\n\u001b[1;32m-> 3064\u001b[0m \u001b[43mto_pickle\u001b[49m\u001b[43m(\u001b[49m\n\u001b[0;32m   3065\u001b[0m \u001b[43m    \u001b[49m\u001b[38;5;28;43mself\u001b[39;49m\u001b[43m,\u001b[49m\n\u001b[0;32m   3066\u001b[0m \u001b[43m    \u001b[49m\u001b[43mpath\u001b[49m\u001b[43m,\u001b[49m\n\u001b[0;32m   3067\u001b[0m \u001b[43m    \u001b[49m\u001b[43mcompression\u001b[49m\u001b[38;5;241;43m=\u001b[39;49m\u001b[43mcompression\u001b[49m\u001b[43m,\u001b[49m\n\u001b[0;32m   3068\u001b[0m \u001b[43m    \u001b[49m\u001b[43mprotocol\u001b[49m\u001b[38;5;241;43m=\u001b[39;49m\u001b[43mprotocol\u001b[49m\u001b[43m,\u001b[49m\n\u001b[0;32m   3069\u001b[0m \u001b[43m    \u001b[49m\u001b[43mstorage_options\u001b[49m\u001b[38;5;241;43m=\u001b[39;49m\u001b[43mstorage_options\u001b[49m\u001b[43m,\u001b[49m\n\u001b[0;32m   3070\u001b[0m \u001b[43m\u001b[49m\u001b[43m)\u001b[49m\n",
      "File \u001b[1;32m~\\AppData\\Local\\Programs\\Python\\Python310\\lib\\site-packages\\pandas\\io\\pickle.py:97\u001b[0m, in \u001b[0;36mto_pickle\u001b[1;34m(obj, filepath_or_buffer, compression, protocol, storage_options)\u001b[0m\n\u001b[0;32m     94\u001b[0m \u001b[38;5;28;01mif\u001b[39;00m protocol \u001b[38;5;241m<\u001b[39m \u001b[38;5;241m0\u001b[39m:\n\u001b[0;32m     95\u001b[0m     protocol \u001b[38;5;241m=\u001b[39m pickle\u001b[38;5;241m.\u001b[39mHIGHEST_PROTOCOL\n\u001b[1;32m---> 97\u001b[0m \u001b[38;5;28;01mwith\u001b[39;00m \u001b[43mget_handle\u001b[49m\u001b[43m(\u001b[49m\n\u001b[0;32m     98\u001b[0m \u001b[43m    \u001b[49m\u001b[43mfilepath_or_buffer\u001b[49m\u001b[43m,\u001b[49m\n\u001b[0;32m     99\u001b[0m \u001b[43m    \u001b[49m\u001b[38;5;124;43m\"\u001b[39;49m\u001b[38;5;124;43mwb\u001b[39;49m\u001b[38;5;124;43m\"\u001b[39;49m\u001b[43m,\u001b[49m\n\u001b[0;32m    100\u001b[0m \u001b[43m    \u001b[49m\u001b[43mcompression\u001b[49m\u001b[38;5;241;43m=\u001b[39;49m\u001b[43mcompression\u001b[49m\u001b[43m,\u001b[49m\n\u001b[0;32m    101\u001b[0m \u001b[43m    \u001b[49m\u001b[43mis_text\u001b[49m\u001b[38;5;241;43m=\u001b[39;49m\u001b[38;5;28;43;01mFalse\u001b[39;49;00m\u001b[43m,\u001b[49m\n\u001b[0;32m    102\u001b[0m \u001b[43m    \u001b[49m\u001b[43mstorage_options\u001b[49m\u001b[38;5;241;43m=\u001b[39;49m\u001b[43mstorage_options\u001b[49m\u001b[43m,\u001b[49m\n\u001b[0;32m    103\u001b[0m \u001b[43m\u001b[49m\u001b[43m)\u001b[49m \u001b[38;5;28;01mas\u001b[39;00m handles:\n\u001b[0;32m    104\u001b[0m     \u001b[38;5;28;01mif\u001b[39;00m handles\u001b[38;5;241m.\u001b[39mcompression[\u001b[38;5;124m\"\u001b[39m\u001b[38;5;124mmethod\u001b[39m\u001b[38;5;124m\"\u001b[39m] \u001b[38;5;129;01min\u001b[39;00m (\u001b[38;5;124m\"\u001b[39m\u001b[38;5;124mbz2\u001b[39m\u001b[38;5;124m\"\u001b[39m, \u001b[38;5;124m\"\u001b[39m\u001b[38;5;124mxz\u001b[39m\u001b[38;5;124m\"\u001b[39m) \u001b[38;5;129;01mand\u001b[39;00m protocol \u001b[38;5;241m>\u001b[39m\u001b[38;5;241m=\u001b[39m \u001b[38;5;241m5\u001b[39m:\n\u001b[0;32m    105\u001b[0m         \u001b[38;5;66;03m# some weird TypeError GH#39002 with pickle 5: fallback to letting\u001b[39;00m\n\u001b[0;32m    106\u001b[0m         \u001b[38;5;66;03m# pickle create the entire object and then write it to the buffer.\u001b[39;00m\n\u001b[0;32m    107\u001b[0m         \u001b[38;5;66;03m# \"zip\" would also be here if pandas.io.common._BytesZipFile\u001b[39;00m\n\u001b[0;32m    108\u001b[0m         \u001b[38;5;66;03m# wouldn't buffer write calls\u001b[39;00m\n\u001b[0;32m    109\u001b[0m         handles\u001b[38;5;241m.\u001b[39mhandle\u001b[38;5;241m.\u001b[39mwrite(pickle\u001b[38;5;241m.\u001b[39mdumps(obj, protocol\u001b[38;5;241m=\u001b[39mprotocol))\n",
      "File \u001b[1;32m~\\AppData\\Local\\Programs\\Python\\Python310\\lib\\site-packages\\pandas\\io\\common.py:734\u001b[0m, in \u001b[0;36mget_handle\u001b[1;34m(path_or_buf, mode, encoding, compression, memory_map, is_text, errors, storage_options)\u001b[0m\n\u001b[0;32m    732\u001b[0m \u001b[38;5;66;03m# Only for write methods\u001b[39;00m\n\u001b[0;32m    733\u001b[0m \u001b[38;5;28;01mif\u001b[39;00m \u001b[38;5;124m\"\u001b[39m\u001b[38;5;124mr\u001b[39m\u001b[38;5;124m\"\u001b[39m \u001b[38;5;129;01mnot\u001b[39;00m \u001b[38;5;129;01min\u001b[39;00m mode \u001b[38;5;129;01mand\u001b[39;00m is_path:\n\u001b[1;32m--> 734\u001b[0m     \u001b[43mcheck_parent_directory\u001b[49m\u001b[43m(\u001b[49m\u001b[38;5;28;43mstr\u001b[39;49m\u001b[43m(\u001b[49m\u001b[43mhandle\u001b[49m\u001b[43m)\u001b[49m\u001b[43m)\u001b[49m\n\u001b[0;32m    736\u001b[0m \u001b[38;5;28;01mif\u001b[39;00m compression:\n\u001b[0;32m    737\u001b[0m     \u001b[38;5;28;01mif\u001b[39;00m compression \u001b[38;5;241m!=\u001b[39m \u001b[38;5;124m\"\u001b[39m\u001b[38;5;124mzstd\u001b[39m\u001b[38;5;124m\"\u001b[39m:\n\u001b[0;32m    738\u001b[0m         \u001b[38;5;66;03m# compression libraries do not like an explicit text-mode\u001b[39;00m\n",
      "File \u001b[1;32m~\\AppData\\Local\\Programs\\Python\\Python310\\lib\\site-packages\\pandas\\io\\common.py:597\u001b[0m, in \u001b[0;36mcheck_parent_directory\u001b[1;34m(path)\u001b[0m\n\u001b[0;32m    595\u001b[0m parent \u001b[38;5;241m=\u001b[39m Path(path)\u001b[38;5;241m.\u001b[39mparent\n\u001b[0;32m    596\u001b[0m \u001b[38;5;28;01mif\u001b[39;00m \u001b[38;5;129;01mnot\u001b[39;00m parent\u001b[38;5;241m.\u001b[39mis_dir():\n\u001b[1;32m--> 597\u001b[0m     \u001b[38;5;28;01mraise\u001b[39;00m \u001b[38;5;167;01mOSError\u001b[39;00m(\u001b[38;5;124mrf\u001b[39m\u001b[38;5;124m\"\u001b[39m\u001b[38;5;124mCannot save file into a non-existent directory: \u001b[39m\u001b[38;5;124m'\u001b[39m\u001b[38;5;132;01m{\u001b[39;00mparent\u001b[38;5;132;01m}\u001b[39;00m\u001b[38;5;124m'\u001b[39m\u001b[38;5;124m\"\u001b[39m)\n",
      "\u001b[1;31mOSError\u001b[0m: Cannot save file into a non-existent directory: 'Datasheets'"
     ]
    }
   ],
   "source": [
    "df1.to_pickle(\"Datasheets/file.pkl\")"
   ]
  },
  {
   "cell_type": "code",
   "execution_count": null,
   "id": "8729c24a",
   "metadata": {},
   "outputs": [],
   "source": []
  }
 ],
 "metadata": {
  "kernelspec": {
   "display_name": "Python 3 (ipykernel)",
   "language": "python",
   "name": "python3"
  },
  "language_info": {
   "codemirror_mode": {
    "name": "ipython",
    "version": 3
   },
   "file_extension": ".py",
   "mimetype": "text/x-python",
   "name": "python",
   "nbconvert_exporter": "python",
   "pygments_lexer": "ipython3",
   "version": "3.10.10"
  }
 },
 "nbformat": 4,
 "nbformat_minor": 5
}
