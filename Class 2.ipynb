{
 "cells": [
  {
   "cell_type": "code",
   "execution_count": 3,
   "id": "f5a4f6de",
   "metadata": {},
   "outputs": [
    {
     "name": "stdout",
     "output_type": "stream",
     "text": [
      "12\n"
     ]
    }
   ],
   "source": [
    "a = 4\n",
    "b = 8\n",
    "print(a+b)"
   ]
  },
  {
   "cell_type": "code",
   "execution_count": 2,
   "id": "cbf2acf4",
   "metadata": {},
   "outputs": [
    {
     "data": {
      "text/plain": [
       "1.6"
      ]
     },
     "execution_count": 2,
     "metadata": {},
     "output_type": "execute_result"
    }
   ],
   "source": [
    "b/a # \"//= Floor division\" "
   ]
  },
  {
   "cell_type": "code",
   "execution_count": 5,
   "id": "ff999c72",
   "metadata": {},
   "outputs": [
    {
     "data": {
      "text/plain": [
       "3"
      ]
     },
     "execution_count": 5,
     "metadata": {},
     "output_type": "execute_result"
    }
   ],
   "source": [
    "b%5"
   ]
  },
  {
   "cell_type": "code",
   "execution_count": 6,
   "id": "a314384e",
   "metadata": {},
   "outputs": [
    {
     "data": {
      "text/plain": [
       "16"
      ]
     },
     "execution_count": 6,
     "metadata": {},
     "output_type": "execute_result"
    }
   ],
   "source": [
    "#Exponent\n",
    "a**2"
   ]
  },
  {
   "cell_type": "markdown",
   "id": "f48f6de7",
   "metadata": {},
   "source": [
    "### Comparison"
   ]
  },
  {
   "cell_type": "code",
   "execution_count": 7,
   "id": "026eea7a",
   "metadata": {},
   "outputs": [
    {
     "data": {
      "text/plain": [
       "False"
      ]
     },
     "execution_count": 7,
     "metadata": {},
     "output_type": "execute_result"
    }
   ],
   "source": [
    "a==b"
   ]
  },
  {
   "cell_type": "code",
   "execution_count": 8,
   "id": "d1e85b55",
   "metadata": {},
   "outputs": [
    {
     "data": {
      "text/plain": [
       "True"
      ]
     },
     "execution_count": 8,
     "metadata": {},
     "output_type": "execute_result"
    }
   ],
   "source": [
    "a!=b"
   ]
  },
  {
   "cell_type": "code",
   "execution_count": 9,
   "id": "d40651d0",
   "metadata": {},
   "outputs": [
    {
     "data": {
      "text/plain": [
       "False"
      ]
     },
     "execution_count": 9,
     "metadata": {},
     "output_type": "execute_result"
    }
   ],
   "source": [
    "a>b"
   ]
  },
  {
   "cell_type": "code",
   "execution_count": 10,
   "id": "00a49829",
   "metadata": {},
   "outputs": [
    {
     "data": {
      "text/plain": [
       "True"
      ]
     },
     "execution_count": 10,
     "metadata": {},
     "output_type": "execute_result"
    }
   ],
   "source": [
    "a<b"
   ]
  },
  {
   "cell_type": "code",
   "execution_count": 11,
   "id": "d3ef7202",
   "metadata": {},
   "outputs": [
    {
     "data": {
      "text/plain": [
       "False"
      ]
     },
     "execution_count": 11,
     "metadata": {},
     "output_type": "execute_result"
    }
   ],
   "source": [
    "a>=b"
   ]
  },
  {
   "cell_type": "markdown",
   "id": "86ef91f5",
   "metadata": {},
   "source": [
    "### Logical"
   ]
  },
  {
   "cell_type": "code",
   "execution_count": 12,
   "id": "ad6191af",
   "metadata": {},
   "outputs": [
    {
     "data": {
      "text/plain": [
       "False"
      ]
     },
     "execution_count": 12,
     "metadata": {},
     "output_type": "execute_result"
    }
   ],
   "source": [
    "x = 4\n",
    "y = 4\n",
    "z = 6\n",
    "\n",
    "x==y and y==z"
   ]
  },
  {
   "cell_type": "code",
   "execution_count": 13,
   "id": "e7e94881",
   "metadata": {},
   "outputs": [
    {
     "data": {
      "text/plain": [
       "True"
      ]
     },
     "execution_count": 13,
     "metadata": {},
     "output_type": "execute_result"
    }
   ],
   "source": [
    "x==y or y==z"
   ]
  },
  {
   "cell_type": "code",
   "execution_count": 14,
   "id": "bb8f2410",
   "metadata": {},
   "outputs": [
    {
     "data": {
      "text/plain": [
       "False"
      ]
     },
     "execution_count": 14,
     "metadata": {},
     "output_type": "execute_result"
    }
   ],
   "source": [
    "not x==y"
   ]
  },
  {
   "cell_type": "markdown",
   "id": "a7eae24b",
   "metadata": {},
   "source": [
    "### Membership"
   ]
  },
  {
   "cell_type": "code",
   "execution_count": 15,
   "id": "131ded49",
   "metadata": {},
   "outputs": [
    {
     "data": {
      "text/plain": [
       "True"
      ]
     },
     "execution_count": 15,
     "metadata": {},
     "output_type": "execute_result"
    }
   ],
   "source": [
    "\"desh\" in \"Bangladesh\""
   ]
  },
  {
   "cell_type": "code",
   "execution_count": 16,
   "id": "842ffbd2",
   "metadata": {},
   "outputs": [
    {
     "data": {
      "text/plain": [
       "False"
      ]
     },
     "execution_count": 16,
     "metadata": {},
     "output_type": "execute_result"
    }
   ],
   "source": [
    "\"dsh\" in \"Bangladesh\""
   ]
  },
  {
   "cell_type": "markdown",
   "id": "6b8b6815",
   "metadata": {},
   "source": [
    "### Identity "
   ]
  },
  {
   "cell_type": "code",
   "execution_count": 17,
   "id": "897d5d22",
   "metadata": {},
   "outputs": [
    {
     "data": {
      "text/plain": [
       "False"
      ]
     },
     "execution_count": 17,
     "metadata": {},
     "output_type": "execute_result"
    }
   ],
   "source": [
    "a is b"
   ]
  },
  {
   "cell_type": "code",
   "execution_count": 18,
   "id": "14e32754",
   "metadata": {},
   "outputs": [
    {
     "data": {
      "text/plain": [
       "True"
      ]
     },
     "execution_count": 18,
     "metadata": {},
     "output_type": "execute_result"
    }
   ],
   "source": [
    "x is y"
   ]
  },
  {
   "cell_type": "markdown",
   "id": "93019684",
   "metadata": {},
   "source": [
    "## Data structures"
   ]
  },
  {
   "cell_type": "code",
   "execution_count": 19,
   "id": "8ca9601c",
   "metadata": {},
   "outputs": [],
   "source": [
    "#List\n",
    "\n",
    "list_1 = ['BUET', 'RUET', 'KUET', 'CUET']\n",
    "list_2 = [1, 2, 3, 4]"
   ]
  },
  {
   "cell_type": "code",
   "execution_count": 21,
   "id": "a62bfa0c",
   "metadata": {},
   "outputs": [
    {
     "data": {
      "text/plain": [
       "'CUET'"
      ]
     },
     "execution_count": 21,
     "metadata": {},
     "output_type": "execute_result"
    }
   ],
   "source": [
    "list_1[3]  #indexing"
   ]
  },
  {
   "cell_type": "code",
   "execution_count": 23,
   "id": "5781d054",
   "metadata": {},
   "outputs": [
    {
     "data": {
      "text/plain": [
       "['BUET', 'RUET', 'KUET']"
      ]
     },
     "execution_count": 23,
     "metadata": {},
     "output_type": "execute_result"
    }
   ],
   "source": [
    "list_1 [0:3]                                       #slicing {lower <= index < upper}"
   ]
  },
  {
   "cell_type": "code",
   "execution_count": 24,
   "id": "be5d69de",
   "metadata": {},
   "outputs": [
    {
     "data": {
      "text/plain": [
       "['BUET', 'RUET', 'KUET']"
      ]
     },
     "execution_count": 24,
     "metadata": {},
     "output_type": "execute_result"
    }
   ],
   "source": [
    "list_1[:3]"
   ]
  },
  {
   "cell_type": "code",
   "execution_count": 26,
   "id": "74a22218",
   "metadata": {},
   "outputs": [
    {
     "data": {
      "text/plain": [
       "['KUET', 'CUET']"
      ]
     },
     "execution_count": 26,
     "metadata": {},
     "output_type": "execute_result"
    }
   ],
   "source": [
    "list_1[2:]"
   ]
  },
  {
   "cell_type": "code",
   "execution_count": 27,
   "id": "ae4e9e54",
   "metadata": {},
   "outputs": [
    {
     "data": {
      "text/plain": [
       "['BUET', 'RUET', 'KUET', 'CUET', 'NSU']"
      ]
     },
     "execution_count": 27,
     "metadata": {},
     "output_type": "execute_result"
    }
   ],
   "source": [
    "#Update list\n",
    "list_1.append('NSU')                                   #Adding an element at the last of the list\n",
    "list_1"
   ]
  },
  {
   "cell_type": "code",
   "execution_count": 28,
   "id": "394bc990",
   "metadata": {},
   "outputs": [
    {
     "data": {
      "text/plain": [
       "['BUET', 'RUET', 'DU', 'KUET', 'CUET', 'NSU']"
      ]
     },
     "execution_count": 28,
     "metadata": {},
     "output_type": "execute_result"
    }
   ],
   "source": [
    "list_1.insert(2, 'DU')                                 #Inserting an element at any position of the list\n",
    "list_1"
   ]
  },
  {
   "cell_type": "code",
   "execution_count": 32,
   "id": "d4626428",
   "metadata": {},
   "outputs": [
    {
     "data": {
      "text/plain": [
       "['BUET',\n",
       " 'RUET',\n",
       " 'DU',\n",
       " 'KUET',\n",
       " 'CUET',\n",
       " 'NSU',\n",
       " 12,\n",
       " 34,\n",
       " 1,\n",
       " 2,\n",
       " 3,\n",
       " 4,\n",
       " 12,\n",
       " 34,\n",
       " 10,\n",
       " 20]"
      ]
     },
     "execution_count": 32,
     "metadata": {},
     "output_type": "execute_result"
    }
   ],
   "source": [
    "list_1.extend([10,20])\n",
    "list_1"
   ]
  },
  {
   "cell_type": "code",
   "execution_count": 33,
   "id": "fa4ddd00",
   "metadata": {},
   "outputs": [
    {
     "data": {
      "text/plain": [
       "['BUET',\n",
       " 'RUET',\n",
       " 'DU',\n",
       " 'KUET',\n",
       " 'CUET',\n",
       " 'NSU',\n",
       " 12,\n",
       " 34,\n",
       " 1,\n",
       " 2,\n",
       " 3,\n",
       " 4,\n",
       " 12,\n",
       " 34,\n",
       " 10,\n",
       " 20,\n",
       " 1,\n",
       " 2,\n",
       " 3,\n",
       " 4]"
      ]
     },
     "execution_count": 33,
     "metadata": {},
     "output_type": "execute_result"
    }
   ],
   "source": [
    "list_1 + list_2"
   ]
  },
  {
   "cell_type": "code",
   "execution_count": 34,
   "id": "a4ad63b8",
   "metadata": {},
   "outputs": [
    {
     "data": {
      "text/plain": [
       "['BUET', 'RUET', 'DU', 'KUET', 'CUET', 'NSU', 12]"
      ]
     },
     "execution_count": 34,
     "metadata": {},
     "output_type": "execute_result"
    }
   ],
   "source": [
    "#Remove Items\n",
    "del list_1[7:]\n",
    "list_1"
   ]
  },
  {
   "cell_type": "code",
   "execution_count": 35,
   "id": "14155281",
   "metadata": {},
   "outputs": [
    {
     "data": {
      "text/plain": [
       "['BUET', 'RUET', 'DU', 'KUET', 'CUET', 'NSU']"
      ]
     },
     "execution_count": 35,
     "metadata": {},
     "output_type": "execute_result"
    }
   ],
   "source": [
    "list_1.remove(12)                                               #Remove a single element from the list\n",
    "list_1"
   ]
  },
  {
   "cell_type": "code",
   "execution_count": 36,
   "id": "e21bab99",
   "metadata": {},
   "outputs": [],
   "source": [
    "del list_1[-2]                                                  #remove the 2nd last element "
   ]
  },
  {
   "cell_type": "code",
   "execution_count": 37,
   "id": "bf5d2529",
   "metadata": {},
   "outputs": [
    {
     "data": {
      "text/plain": [
       "['BUET', 'RUET', 'DU', 'KUET', 'NSU']"
      ]
     },
     "execution_count": 37,
     "metadata": {},
     "output_type": "execute_result"
    }
   ],
   "source": [
    "list_1                                                          #'CUET will be deleted'"
   ]
  },
  {
   "cell_type": "code",
   "execution_count": 38,
   "id": "8dffa6f0",
   "metadata": {},
   "outputs": [
    {
     "data": {
      "text/plain": [
       "'NSU'"
      ]
     },
     "execution_count": 38,
     "metadata": {},
     "output_type": "execute_result"
    }
   ],
   "source": [
    "list_1.pop()                                                    #only last element will be deleted"
   ]
  },
  {
   "cell_type": "code",
   "execution_count": 39,
   "id": "fc39cbe9",
   "metadata": {},
   "outputs": [
    {
     "data": {
      "text/plain": [
       "['BUET', 'RUET', 'DU', 'KUET']"
      ]
     },
     "execution_count": 39,
     "metadata": {},
     "output_type": "execute_result"
    }
   ],
   "source": [
    "list_1"
   ]
  },
  {
   "cell_type": "code",
   "execution_count": 40,
   "id": "5b2f61c3",
   "metadata": {},
   "outputs": [
    {
     "data": {
      "text/plain": [
       "['BUET', 'RUET', 'DU', 'KUET', 'RUET', 'RUET']"
      ]
     },
     "execution_count": 40,
     "metadata": {},
     "output_type": "execute_result"
    }
   ],
   "source": [
    "list_1 += ['RUET', 'RUET']                                     #Adding 2 elements at the last\n",
    "list_1"
   ]
  },
  {
   "cell_type": "code",
   "execution_count": 41,
   "id": "9c76bf01",
   "metadata": {},
   "outputs": [
    {
     "data": {
      "text/plain": [
       "3"
      ]
     },
     "execution_count": 41,
     "metadata": {},
     "output_type": "execute_result"
    }
   ],
   "source": [
    "list_1.count('RUET') "
   ]
  },
  {
   "cell_type": "code",
   "execution_count": 43,
   "id": "c486aa3e",
   "metadata": {},
   "outputs": [
    {
     "data": {
      "text/plain": [
       "['a', 'b', 'c', 'd']"
      ]
     },
     "execution_count": 43,
     "metadata": {},
     "output_type": "execute_result"
    }
   ],
   "source": [
    "list_3 = ['c', 'a', 'd', 'b']\n",
    "list_3.sort()\n",
    "list_3"
   ]
  },
  {
   "cell_type": "markdown",
   "id": "3d39ebbd",
   "metadata": {},
   "source": [
    "### Tuple"
   ]
  },
  {
   "cell_type": "code",
   "execution_count": 44,
   "id": "b04184a4",
   "metadata": {},
   "outputs": [
    {
     "data": {
      "text/plain": [
       "(list, tuple)"
      ]
     },
     "execution_count": 44,
     "metadata": {},
     "output_type": "execute_result"
    }
   ],
   "source": [
    "tup = ('a', 'b', 'c', 'd')\n",
    "\n",
    "type(list_1), type(tup)"
   ]
  },
  {
   "cell_type": "code",
   "execution_count": 45,
   "id": "30b1636e",
   "metadata": {},
   "outputs": [
    {
     "data": {
      "text/plain": [
       "['BUET', 'RUET', 'DU', 'KUET', 'RUET', 'Brac']"
      ]
     },
     "execution_count": 45,
     "metadata": {},
     "output_type": "execute_result"
    }
   ],
   "source": [
    "list_1[5] = 'Brac'\n",
    "list_1"
   ]
  },
  {
   "cell_type": "code",
   "execution_count": 48,
   "id": "ad0e99cb",
   "metadata": {},
   "outputs": [
    {
     "ename": "TypeError",
     "evalue": "'tuple' object does not support item assignment",
     "output_type": "error",
     "traceback": [
      "\u001b[1;31m---------------------------------------------------------------------------\u001b[0m",
      "\u001b[1;31mTypeError\u001b[0m                                 Traceback (most recent call last)",
      "Cell \u001b[1;32mIn[48], line 1\u001b[0m\n\u001b[1;32m----> 1\u001b[0m \u001b[43mtup\u001b[49m\u001b[43m[\u001b[49m\u001b[38;5;241;43m4\u001b[39;49m\u001b[43m]\u001b[49m \u001b[38;5;241m=\u001b[39m \u001b[38;5;124m'\u001b[39m\u001b[38;5;124me\u001b[39m\u001b[38;5;124m'\u001b[39m\n\u001b[0;32m      2\u001b[0m tup\n",
      "\u001b[1;31mTypeError\u001b[0m: 'tuple' object does not support item assignment"
     ]
    }
   ],
   "source": [
    "tup[4] = 'e'\n",
    "tup"
   ]
  },
  {
   "cell_type": "code",
   "execution_count": 3,
   "id": "af3f0d47",
   "metadata": {},
   "outputs": [
    {
     "ename": "NameError",
     "evalue": "name 'tup' is not defined",
     "output_type": "error",
     "traceback": [
      "\u001b[1;31m---------------------------------------------------------------------------\u001b[0m",
      "\u001b[1;31mNameError\u001b[0m                                 Traceback (most recent call last)",
      "Cell \u001b[1;32mIn[3], line 1\u001b[0m\n\u001b[1;32m----> 1\u001b[0m tup \u001b[38;5;241m=\u001b[39m \u001b[43mtup\u001b[49m \u001b[38;5;241m+\u001b[39m (\u001b[38;5;124m'\u001b[39m\u001b[38;5;124me\u001b[39m\u001b[38;5;124m'\u001b[39m,)\n\u001b[0;32m      2\u001b[0m tup\n",
      "\u001b[1;31mNameError\u001b[0m: name 'tup' is not defined"
     ]
    }
   ],
   "source": [
    "tup = tup + ('e',)\n",
    "tup"
   ]
  },
  {
   "cell_type": "markdown",
   "id": "18f84ce8",
   "metadata": {},
   "source": [
    "### Dictionary"
   ]
  },
  {
   "cell_type": "code",
   "execution_count": 4,
   "id": "be3619d7",
   "metadata": {},
   "outputs": [
    {
     "data": {
      "text/plain": [
       "'KUET'"
      ]
     },
     "execution_count": 4,
     "metadata": {},
     "output_type": "execute_result"
    }
   ],
   "source": [
    "dict = {'b':'BUET', 'r':'RUET', 'd':'DU', 'k':'KUET', 'n':'NSU'}\n",
    "dict['k']"
   ]
  },
  {
   "cell_type": "code",
   "execution_count": 5,
   "id": "6c8e0e3c",
   "metadata": {},
   "outputs": [
    {
     "data": {
      "text/plain": [
       "{'b': 'BUET', 'r': 'RU', 'd': 'DU', 'k': 'KUET', 'n': 'NSU'}"
      ]
     },
     "execution_count": 5,
     "metadata": {},
     "output_type": "execute_result"
    }
   ],
   "source": [
    "dict['r'] = 'RU'                  #Update\n",
    "dict"
   ]
  },
  {
   "cell_type": "code",
   "execution_count": 6,
   "id": "89cab535",
   "metadata": {},
   "outputs": [
    {
     "data": {
      "text/plain": [
       "dict_keys(['b', 'r', 'd', 'k', 'n'])"
      ]
     },
     "execution_count": 6,
     "metadata": {},
     "output_type": "execute_result"
    }
   ],
   "source": [
    "dict.keys()"
   ]
  },
  {
   "cell_type": "code",
   "execution_count": 7,
   "id": "50fca8d6",
   "metadata": {},
   "outputs": [
    {
     "data": {
      "text/plain": [
       "dict_values(['BUET', 'RU', 'DU', 'KUET', 'NSU'])"
      ]
     },
     "execution_count": 7,
     "metadata": {},
     "output_type": "execute_result"
    }
   ],
   "source": [
    "dict.values()"
   ]
  },
  {
   "cell_type": "markdown",
   "id": "293dc62a",
   "metadata": {},
   "source": [
    " ### Set"
   ]
  },
  {
   "cell_type": "code",
   "execution_count": 9,
   "id": "ec987e8c",
   "metadata": {},
   "outputs": [
    {
     "data": {
      "text/plain": [
       "{1, 2, 3, 4, 9}"
      ]
     },
     "execution_count": 9,
     "metadata": {},
     "output_type": "execute_result"
    }
   ],
   "source": [
    "s = {9,1,2,3,4,4,4}                     #sort and Duplicate entity will be removed \n",
    "s"
   ]
  },
  {
   "cell_type": "markdown",
   "id": "bfb1fc71",
   "metadata": {},
   "source": [
    "## String"
   ]
  },
  {
   "cell_type": "code",
   "execution_count": 12,
   "id": "0a6a4bdd",
   "metadata": {},
   "outputs": [
    {
     "data": {
      "text/plain": [
       "\"Bangladesh is 'love'. I love her\""
      ]
     },
     "execution_count": 12,
     "metadata": {},
     "output_type": "execute_result"
    }
   ],
   "source": [
    "string = \"Bangladesh is 'love'. I love her\"\n",
    "string"
   ]
  },
  {
   "cell_type": "code",
   "execution_count": 13,
   "id": "4f7631a9",
   "metadata": {},
   "outputs": [
    {
     "name": "stdout",
     "output_type": "stream",
     "text": [
      "Bangladesh is love\n",
      "I love her\n"
     ]
    }
   ],
   "source": [
    "print (\"Bangladesh is love\")\n",
    "print (\"I love her\")"
   ]
  },
  {
   "cell_type": "code",
   "execution_count": 15,
   "id": "059a2b38",
   "metadata": {},
   "outputs": [
    {
     "name": "stdout",
     "output_type": "stream",
     "text": [
      "Bangladesh is love. I love her\n"
     ]
    }
   ],
   "source": [
    "print(\"Bangladesh is love.\", end = \" \")\n",
    "print(\"I love her\")"
   ]
  },
  {
   "cell_type": "code",
   "execution_count": 16,
   "id": "2e4be01f",
   "metadata": {},
   "outputs": [
    {
     "data": {
      "text/plain": [
       "'g'"
      ]
     },
     "execution_count": 16,
     "metadata": {},
     "output_type": "execute_result"
    }
   ],
   "source": [
    "string[3]"
   ]
  },
  {
   "cell_type": "code",
   "execution_count": 17,
   "id": "bc36689e",
   "metadata": {},
   "outputs": [
    {
     "data": {
      "text/plain": [
       "'angla'"
      ]
     },
     "execution_count": 17,
     "metadata": {},
     "output_type": "execute_result"
    }
   ],
   "source": [
    "string[1:6]     #slicing is avaiable"
   ]
  },
  {
   "cell_type": "code",
   "execution_count": 19,
   "id": "10acaaec",
   "metadata": {},
   "outputs": [
    {
     "name": "stdout",
     "output_type": "stream",
     "text": [
      "Bangladesh is 'love'. I love her 15\n"
     ]
    }
   ],
   "source": [
    "n = 15\n",
    "print(string, n)"
   ]
  },
  {
   "cell_type": "code",
   "execution_count": 21,
   "id": "73d80873",
   "metadata": {},
   "outputs": [
    {
     "name": "stdout",
     "output_type": "stream",
     "text": [
      "Area of BD is:  147570 sq k.m\n"
     ]
    }
   ],
   "source": [
    "n = 147570\n",
    "string_2 = \"Area of BD is: \"\n",
    "print(string_2, n, 'sq k.m')"
   ]
  },
  {
   "cell_type": "code",
   "execution_count": 22,
   "id": "d74945ec",
   "metadata": {},
   "outputs": [
    {
     "name": "stdout",
     "output_type": "stream",
     "text": [
      "Area of BD is: 147570 sq k.m\n"
     ]
    }
   ],
   "source": [
    "print (f\"Area of BD is: {n} sq k.m\")"
   ]
  },
  {
   "cell_type": "code",
   "execution_count": 24,
   "id": "493e43dc",
   "metadata": {},
   "outputs": [
    {
     "name": "stdout",
     "output_type": "stream",
     "text": [
      "Area of BD is: 147570 sq k.m\n"
     ]
    }
   ],
   "source": [
    "print(f\"{string_2}{n} sq k.m\")"
   ]
  },
  {
   "cell_type": "code",
   "execution_count": 25,
   "id": "c7b1f9af",
   "metadata": {},
   "outputs": [
    {
     "data": {
      "text/plain": [
       "'BanglaWash'"
      ]
     },
     "execution_count": 25,
     "metadata": {},
     "output_type": "execute_result"
    }
   ],
   "source": [
    "s1 = \"Bangla\"\n",
    "s2 = \"Wash\"\n",
    "s1+s2"
   ]
  },
  {
   "cell_type": "code",
   "execution_count": 29,
   "id": "cdbe8974",
   "metadata": {},
   "outputs": [
    {
     "data": {
      "text/plain": [
       "'Bangla-Wash'"
      ]
     },
     "execution_count": 29,
     "metadata": {},
     "output_type": "execute_result"
    }
   ],
   "source": [
    "washed = s1+ '-'+s2\n",
    "washed"
   ]
  },
  {
   "cell_type": "code",
   "execution_count": 30,
   "id": "11925af2",
   "metadata": {},
   "outputs": [
    {
     "data": {
      "text/plain": [
       "['B', 'ngl', '-W', 'sh']"
      ]
     },
     "execution_count": 30,
     "metadata": {},
     "output_type": "execute_result"
    }
   ],
   "source": [
    "washed.split('a')"
   ]
  },
  {
   "cell_type": "code",
   "execution_count": 31,
   "id": "4e7c2d03",
   "metadata": {},
   "outputs": [
    {
     "data": {
      "text/plain": [
       "7"
      ]
     },
     "execution_count": 31,
     "metadata": {},
     "output_type": "execute_result"
    }
   ],
   "source": [
    "washed.find(\"Wash\")"
   ]
  },
  {
   "cell_type": "code",
   "execution_count": null,
   "id": "52e628e1",
   "metadata": {},
   "outputs": [],
   "source": []
  }
 ],
 "metadata": {
  "kernelspec": {
   "display_name": "Python 3 (ipykernel)",
   "language": "python",
   "name": "python3"
  },
  "language_info": {
   "codemirror_mode": {
    "name": "ipython",
    "version": 3
   },
   "file_extension": ".py",
   "mimetype": "text/x-python",
   "name": "python",
   "nbconvert_exporter": "python",
   "pygments_lexer": "ipython3",
   "version": "3.10.10"
  }
 },
 "nbformat": 4,
 "nbformat_minor": 5
}
